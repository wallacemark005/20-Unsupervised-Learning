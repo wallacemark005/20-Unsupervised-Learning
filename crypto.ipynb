{
 "cells": [
  {
   "cell_type": "code",
   "execution_count": 14,
   "id": "94b3546b",
   "metadata": {},
   "outputs": [],
   "source": [
    "from sklearn.datasets import load_breast_cancer\n",
    "from sklearn.decomposition import PCA\n",
    "from sklearn.pipeline import Pipeline\n",
    "from sklearn.preprocessing import StandardScaler\n",
    "from sklearn.model_selection import GridSearchCV\n",
    "from sklearn.model_selection import train_test_split\n",
    "from sklearn.svm import SVC\n",
    "\n",
    "import pandas as pd\n",
    "import numpy as np\n",
    "from pathlib import Path"
   ]
  },
  {
   "cell_type": "code",
   "execution_count": 15,
   "id": "1f7b7d45",
   "metadata": {},
   "outputs": [
    {
     "data": {
      "text/html": [
       "<div>\n",
       "<style scoped>\n",
       "    .dataframe tbody tr th:only-of-type {\n",
       "        vertical-align: middle;\n",
       "    }\n",
       "\n",
       "    .dataframe tbody tr th {\n",
       "        vertical-align: top;\n",
       "    }\n",
       "\n",
       "    .dataframe thead th {\n",
       "        text-align: right;\n",
       "    }\n",
       "</style>\n",
       "<table border=\"1\" class=\"dataframe\">\n",
       "  <thead>\n",
       "    <tr style=\"text-align: right;\">\n",
       "      <th></th>\n",
       "      <th>Unnamed: 0</th>\n",
       "      <th>CoinName</th>\n",
       "      <th>Algorithm</th>\n",
       "      <th>IsTrading</th>\n",
       "      <th>ProofType</th>\n",
       "      <th>TotalCoinsMined</th>\n",
       "      <th>TotalCoinSupply</th>\n",
       "    </tr>\n",
       "  </thead>\n",
       "  <tbody>\n",
       "    <tr>\n",
       "      <th>0</th>\n",
       "      <td>42</td>\n",
       "      <td>42 Coin</td>\n",
       "      <td>Scrypt</td>\n",
       "      <td>True</td>\n",
       "      <td>PoW/PoS</td>\n",
       "      <td>4.199995e+01</td>\n",
       "      <td>42</td>\n",
       "    </tr>\n",
       "    <tr>\n",
       "      <th>1</th>\n",
       "      <td>365</td>\n",
       "      <td>365Coin</td>\n",
       "      <td>X11</td>\n",
       "      <td>True</td>\n",
       "      <td>PoW/PoS</td>\n",
       "      <td>NaN</td>\n",
       "      <td>2300000000</td>\n",
       "    </tr>\n",
       "    <tr>\n",
       "      <th>2</th>\n",
       "      <td>404</td>\n",
       "      <td>404Coin</td>\n",
       "      <td>Scrypt</td>\n",
       "      <td>True</td>\n",
       "      <td>PoW/PoS</td>\n",
       "      <td>1.055185e+09</td>\n",
       "      <td>532000000</td>\n",
       "    </tr>\n",
       "    <tr>\n",
       "      <th>3</th>\n",
       "      <td>611</td>\n",
       "      <td>SixEleven</td>\n",
       "      <td>SHA-256</td>\n",
       "      <td>True</td>\n",
       "      <td>PoW</td>\n",
       "      <td>NaN</td>\n",
       "      <td>611000</td>\n",
       "    </tr>\n",
       "    <tr>\n",
       "      <th>4</th>\n",
       "      <td>808</td>\n",
       "      <td>808</td>\n",
       "      <td>SHA-256</td>\n",
       "      <td>True</td>\n",
       "      <td>PoW/PoS</td>\n",
       "      <td>0.000000e+00</td>\n",
       "      <td>0</td>\n",
       "    </tr>\n",
       "  </tbody>\n",
       "</table>\n",
       "</div>"
      ],
      "text/plain": [
       "  Unnamed: 0   CoinName Algorithm  IsTrading ProofType  TotalCoinsMined  \\\n",
       "0         42    42 Coin    Scrypt       True   PoW/PoS     4.199995e+01   \n",
       "1        365    365Coin       X11       True   PoW/PoS              NaN   \n",
       "2        404    404Coin    Scrypt       True   PoW/PoS     1.055185e+09   \n",
       "3        611  SixEleven   SHA-256       True       PoW              NaN   \n",
       "4        808        808   SHA-256       True   PoW/PoS     0.000000e+00   \n",
       "\n",
       "  TotalCoinSupply  \n",
       "0              42  \n",
       "1      2300000000  \n",
       "2       532000000  \n",
       "3          611000  \n",
       "4               0  "
      ]
     },
     "execution_count": 15,
     "metadata": {},
     "output_type": "execute_result"
    }
   ],
   "source": [
    "# Data loading\n",
    "file_path = Path(\"crypto_data.csv\")\n",
    "df_crypto = pd.read_csv(file_path)\n",
    "df_crypto.head()"
   ]
  },
  {
   "cell_type": "code",
   "execution_count": 16,
   "id": "6be81268",
   "metadata": {},
   "outputs": [
    {
     "name": "stdout",
     "output_type": "stream",
     "text": [
      "Duplicate entries: 0\n"
     ]
    }
   ],
   "source": [
    "# Find duplicate entries\n",
    "print(f\"Duplicate entries: {df_crypto.duplicated().sum()}\")"
   ]
  },
  {
   "cell_type": "code",
   "execution_count": 17,
   "id": "3cdf9397",
   "metadata": {},
   "outputs": [
    {
     "name": "stdout",
     "output_type": "stream",
     "text": [
      "Column Unnamed: 0 has 0 null values\n",
      "Column CoinName has 0 null values\n",
      "Column Algorithm has 0 null values\n",
      "Column IsTrading has 0 null values\n",
      "Column ProofType has 0 null values\n",
      "Column TotalCoinsMined has 508 null values\n",
      "Column TotalCoinSupply has 0 null values\n"
     ]
    }
   ],
   "source": [
    "# Find null values\n",
    "for column in df_crypto.columns:\n",
    "    print(f\"Column {column} has {df_crypto[column].isnull().sum()} null values\")"
   ]
  },
  {
   "cell_type": "code",
   "execution_count": 18,
   "id": "85a87f14",
   "metadata": {
    "scrolled": true
   },
   "outputs": [
    {
     "data": {
      "text/html": [
       "<div>\n",
       "<style scoped>\n",
       "    .dataframe tbody tr th:only-of-type {\n",
       "        vertical-align: middle;\n",
       "    }\n",
       "\n",
       "    .dataframe tbody tr th {\n",
       "        vertical-align: top;\n",
       "    }\n",
       "\n",
       "    .dataframe thead th {\n",
       "        text-align: right;\n",
       "    }\n",
       "</style>\n",
       "<table border=\"1\" class=\"dataframe\">\n",
       "  <thead>\n",
       "    <tr style=\"text-align: right;\">\n",
       "      <th></th>\n",
       "      <th>Algorithm</th>\n",
       "      <th>ProofType</th>\n",
       "      <th>TotalCoinsMined</th>\n",
       "      <th>TotalCoinSupply</th>\n",
       "    </tr>\n",
       "  </thead>\n",
       "  <tbody>\n",
       "    <tr>\n",
       "      <th>0</th>\n",
       "      <td>Scrypt</td>\n",
       "      <td>PoW/PoS</td>\n",
       "      <td>4.199995e+01</td>\n",
       "      <td>42</td>\n",
       "    </tr>\n",
       "    <tr>\n",
       "      <th>2</th>\n",
       "      <td>Scrypt</td>\n",
       "      <td>PoW/PoS</td>\n",
       "      <td>1.055185e+09</td>\n",
       "      <td>532000000</td>\n",
       "    </tr>\n",
       "    <tr>\n",
       "      <th>4</th>\n",
       "      <td>SHA-256</td>\n",
       "      <td>PoW/PoS</td>\n",
       "      <td>0.000000e+00</td>\n",
       "      <td>0</td>\n",
       "    </tr>\n",
       "    <tr>\n",
       "      <th>5</th>\n",
       "      <td>X13</td>\n",
       "      <td>PoW/PoS</td>\n",
       "      <td>2.927942e+10</td>\n",
       "      <td>314159265359</td>\n",
       "    </tr>\n",
       "    <tr>\n",
       "      <th>7</th>\n",
       "      <td>SHA-256</td>\n",
       "      <td>PoW</td>\n",
       "      <td>1.792718e+07</td>\n",
       "      <td>21000000</td>\n",
       "    </tr>\n",
       "    <tr>\n",
       "      <th>...</th>\n",
       "      <td>...</td>\n",
       "      <td>...</td>\n",
       "      <td>...</td>\n",
       "      <td>...</td>\n",
       "    </tr>\n",
       "    <tr>\n",
       "      <th>1242</th>\n",
       "      <td>Scrypt</td>\n",
       "      <td>PoW/PoS</td>\n",
       "      <td>1.493105e+07</td>\n",
       "      <td>250000000</td>\n",
       "    </tr>\n",
       "    <tr>\n",
       "      <th>1245</th>\n",
       "      <td>CryptoNight</td>\n",
       "      <td>PoW</td>\n",
       "      <td>9.802226e+08</td>\n",
       "      <td>1400222610</td>\n",
       "    </tr>\n",
       "    <tr>\n",
       "      <th>1246</th>\n",
       "      <td>Equihash</td>\n",
       "      <td>PoW</td>\n",
       "      <td>7.296538e+06</td>\n",
       "      <td>21000000</td>\n",
       "    </tr>\n",
       "    <tr>\n",
       "      <th>1247</th>\n",
       "      <td>Scrypt</td>\n",
       "      <td>PoS</td>\n",
       "      <td>1.283270e+05</td>\n",
       "      <td>1000000</td>\n",
       "    </tr>\n",
       "    <tr>\n",
       "      <th>1248</th>\n",
       "      <td>Scrypt</td>\n",
       "      <td>PoW/PoS</td>\n",
       "      <td>2.149121e+07</td>\n",
       "      <td>100000000</td>\n",
       "    </tr>\n",
       "  </tbody>\n",
       "</table>\n",
       "<p>744 rows × 4 columns</p>\n",
       "</div>"
      ],
      "text/plain": [
       "        Algorithm ProofType  TotalCoinsMined TotalCoinSupply\n",
       "0          Scrypt   PoW/PoS     4.199995e+01              42\n",
       "2          Scrypt   PoW/PoS     1.055185e+09       532000000\n",
       "4         SHA-256   PoW/PoS     0.000000e+00               0\n",
       "5             X13   PoW/PoS     2.927942e+10    314159265359\n",
       "7         SHA-256       PoW     1.792718e+07        21000000\n",
       "...           ...       ...              ...             ...\n",
       "1242       Scrypt   PoW/PoS     1.493105e+07       250000000\n",
       "1245  CryptoNight       PoW     9.802226e+08      1400222610\n",
       "1246     Equihash       PoW     7.296538e+06        21000000\n",
       "1247       Scrypt       PoS     1.283270e+05         1000000\n",
       "1248       Scrypt   PoW/PoS     2.149121e+07       100000000\n",
       "\n",
       "[744 rows x 4 columns]"
      ]
     },
     "execution_count": 18,
     "metadata": {},
     "output_type": "execute_result"
    }
   ],
   "source": [
    "# Remove not traded and null\n",
    "df_crypto[df_crypto.IsTrading != 'False']\n",
    "df_crypto = df_crypto.dropna()\n",
    "df_crypto=df_crypto.drop(columns=['IsTrading','Unnamed: 0','CoinName'])\n",
    "df_crypto"
   ]
  },
  {
   "cell_type": "code",
   "execution_count": 19,
   "id": "3c90d61a",
   "metadata": {},
   "outputs": [
    {
     "name": "stdout",
     "output_type": "stream",
     "text": [
      "Column Algorithm has 0 null values\n",
      "Column ProofType has 0 null values\n",
      "Column TotalCoinsMined has 0 null values\n",
      "Column TotalCoinSupply has 0 null values\n"
     ]
    }
   ],
   "source": [
    "# Find null values\n",
    "for column in df_crypto.columns:\n",
    "    print(f\"Column {column} has {df_crypto[column].isnull().sum()} null values\")"
   ]
  },
  {
   "cell_type": "code",
   "execution_count": 20,
   "id": "27c807ee",
   "metadata": {
    "scrolled": true
   },
   "outputs": [
    {
     "data": {
      "text/html": [
       "<div>\n",
       "<style scoped>\n",
       "    .dataframe tbody tr th:only-of-type {\n",
       "        vertical-align: middle;\n",
       "    }\n",
       "\n",
       "    .dataframe tbody tr th {\n",
       "        vertical-align: top;\n",
       "    }\n",
       "\n",
       "    .dataframe thead th {\n",
       "        text-align: right;\n",
       "    }\n",
       "</style>\n",
       "<table border=\"1\" class=\"dataframe\">\n",
       "  <thead>\n",
       "    <tr style=\"text-align: right;\">\n",
       "      <th></th>\n",
       "      <th>Algorithm</th>\n",
       "      <th>ProofType</th>\n",
       "      <th>TotalCoinsMined</th>\n",
       "      <th>TotalCoinSupply</th>\n",
       "    </tr>\n",
       "  </thead>\n",
       "  <tbody>\n",
       "    <tr>\n",
       "      <th>0</th>\n",
       "      <td>Scrypt</td>\n",
       "      <td>PoW/PoS</td>\n",
       "      <td>4.199995e+01</td>\n",
       "      <td>42</td>\n",
       "    </tr>\n",
       "    <tr>\n",
       "      <th>2</th>\n",
       "      <td>Scrypt</td>\n",
       "      <td>PoW/PoS</td>\n",
       "      <td>1.055185e+09</td>\n",
       "      <td>532000000</td>\n",
       "    </tr>\n",
       "    <tr>\n",
       "      <th>4</th>\n",
       "      <td>SHA-256</td>\n",
       "      <td>PoW/PoS</td>\n",
       "      <td>0.000000e+00</td>\n",
       "      <td>0</td>\n",
       "    </tr>\n",
       "    <tr>\n",
       "      <th>5</th>\n",
       "      <td>X13</td>\n",
       "      <td>PoW/PoS</td>\n",
       "      <td>2.927942e+10</td>\n",
       "      <td>314159265359</td>\n",
       "    </tr>\n",
       "    <tr>\n",
       "      <th>7</th>\n",
       "      <td>SHA-256</td>\n",
       "      <td>PoW</td>\n",
       "      <td>1.792718e+07</td>\n",
       "      <td>21000000</td>\n",
       "    </tr>\n",
       "    <tr>\n",
       "      <th>...</th>\n",
       "      <td>...</td>\n",
       "      <td>...</td>\n",
       "      <td>...</td>\n",
       "      <td>...</td>\n",
       "    </tr>\n",
       "    <tr>\n",
       "      <th>162</th>\n",
       "      <td>Scrypt</td>\n",
       "      <td>PoW</td>\n",
       "      <td>2.421518e+07</td>\n",
       "      <td>250000000</td>\n",
       "    </tr>\n",
       "    <tr>\n",
       "      <th>165</th>\n",
       "      <td>X15</td>\n",
       "      <td>PoW/PoS</td>\n",
       "      <td>0.000000e+00</td>\n",
       "      <td>1000000</td>\n",
       "    </tr>\n",
       "    <tr>\n",
       "      <th>166</th>\n",
       "      <td>Scrypt</td>\n",
       "      <td>PoW/PoS</td>\n",
       "      <td>0.000000e+00</td>\n",
       "      <td>1000000</td>\n",
       "    </tr>\n",
       "    <tr>\n",
       "      <th>168</th>\n",
       "      <td>Scrypt</td>\n",
       "      <td>PoW</td>\n",
       "      <td>2.559374e+07</td>\n",
       "      <td>51200000</td>\n",
       "    </tr>\n",
       "    <tr>\n",
       "      <th>170</th>\n",
       "      <td>Scrypt-n</td>\n",
       "      <td>PoW</td>\n",
       "      <td>0.000000e+00</td>\n",
       "      <td>50000000</td>\n",
       "    </tr>\n",
       "  </tbody>\n",
       "</table>\n",
       "<p>108 rows × 4 columns</p>\n",
       "</div>"
      ],
      "text/plain": [
       "    Algorithm ProofType  TotalCoinsMined TotalCoinSupply\n",
       "0      Scrypt   PoW/PoS     4.199995e+01              42\n",
       "2      Scrypt   PoW/PoS     1.055185e+09       532000000\n",
       "4     SHA-256   PoW/PoS     0.000000e+00               0\n",
       "5         X13   PoW/PoS     2.927942e+10    314159265359\n",
       "7     SHA-256       PoW     1.792718e+07        21000000\n",
       "..        ...       ...              ...             ...\n",
       "162    Scrypt       PoW     2.421518e+07       250000000\n",
       "165       X15   PoW/PoS     0.000000e+00         1000000\n",
       "166    Scrypt   PoW/PoS     0.000000e+00         1000000\n",
       "168    Scrypt       PoW     2.559374e+07        51200000\n",
       "170  Scrypt-n       PoW     0.000000e+00        50000000\n",
       "\n",
       "[108 rows x 4 columns]"
      ]
     },
     "execution_count": 20,
     "metadata": {},
     "output_type": "execute_result"
    }
   ],
   "source": [
    "df_crypto.head(108)"
   ]
  },
  {
   "cell_type": "code",
   "execution_count": 21,
   "id": "3d69fb4a",
   "metadata": {
    "scrolled": true
   },
   "outputs": [
    {
     "data": {
      "text/plain": [
       "array([[-0.10047714, -0.03668886, -0.03668644, ..., -0.03668644,\n",
       "        -0.03668644, -0.03668644],\n",
       "       [-0.07317373, -0.0366887 , -0.03668644, ..., -0.03668644,\n",
       "        -0.03668644, -0.03668644],\n",
       "       [-0.10047714, -0.03668886, -0.03668644, ..., -0.03668644,\n",
       "        -0.03668644, -0.03668644],\n",
       "       ...,\n",
       "       [-0.10028834, -0.03668885, -0.03668644, ..., -0.03668644,\n",
       "        -0.03668644, -0.03668644],\n",
       "       [-0.10047382, -0.03668886, -0.03668644, ..., -0.03668644,\n",
       "        -0.03668644, -0.03668644],\n",
       "       [-0.09992104, -0.03668883, -0.03668644, ..., -0.03668644,\n",
       "        -0.03668644, -0.03668644]])"
      ]
     },
     "execution_count": 21,
     "metadata": {},
     "output_type": "execute_result"
    }
   ],
   "source": [
    "# to convert the remaining features with text values\n",
    "dummies = pd.get_dummies(data=df_crypto, columns=['Algorithm', 'ProofType'])\n",
    "dummies.head()\n",
    "dummies.shape\n",
    "\n",
    "# Standardizing data\n",
    "df_scaled = StandardScaler().fit_transform(dummies)\n",
    "df_scaled"
   ]
  },
  {
   "cell_type": "code",
   "execution_count": 22,
   "id": "48c4d0b3",
   "metadata": {},
   "outputs": [
    {
     "data": {
      "text/plain": [
       "array([0.01971841, 0.01856098, 0.01778158, 0.01772294, 0.01772294,\n",
       "       0.01772294, 0.01772294, 0.01772294, 0.01768814, 0.01554653,\n",
       "       0.01513182, 0.01416038, 0.01398333, 0.01280794, 0.01273195,\n",
       "       0.01240069, 0.01170192, 0.01090831, 0.01059317, 0.01015801,\n",
       "       0.00957237, 0.00910587, 0.00907383, 0.00904121, 0.00899759,\n",
       "       0.00897878, 0.00896468, 0.00893976, 0.00892175, 0.00892095,\n",
       "       0.00891664, 0.00891493, 0.00890889, 0.00890425, 0.00889998,\n",
       "       0.00889739, 0.00889691, 0.00889266, 0.00888714, 0.00888539,\n",
       "       0.00888539, 0.00888286, 0.00887929, 0.00887799, 0.00887698,\n",
       "       0.00887603, 0.00887382, 0.00887341, 0.00887341, 0.00887341,\n",
       "       0.00887267, 0.0088702 , 0.00886719, 0.00886147, 0.00886147,\n",
       "       0.00886147, 0.00886147, 0.00886147, 0.00886147, 0.00886147,\n",
       "       0.00886147, 0.00886147, 0.00886147, 0.00886147, 0.00886147,\n",
       "       0.00886147, 0.00886147, 0.00886147, 0.00886147, 0.00886147,\n",
       "       0.00886147, 0.00886147, 0.00886147, 0.00886147, 0.00886147,\n",
       "       0.00886147, 0.00886147, 0.00886147, 0.00886147, 0.00886147,\n",
       "       0.00886147, 0.00886147, 0.00886147, 0.00886147, 0.00886147,\n",
       "       0.00886147, 0.00886147, 0.00886147])"
      ]
     },
     "execution_count": 22,
     "metadata": {},
     "output_type": "execute_result"
    }
   ],
   "source": [
    "# Initialize PCA model\n",
    "pca = PCA(n_components=.9)\n",
    "# Transform PCA data to a DataFrame\n",
    "c_pca = pca.fit_transform(df_scaled)\n",
    "\n",
    "# Fetch the explained variance\n",
    "pca.explained_variance_ratio_"
   ]
  },
  {
   "cell_type": "code",
   "execution_count": 23,
   "id": "44347dfd",
   "metadata": {},
   "outputs": [
    {
     "data": {
      "text/plain": [
       "(744, 2)"
      ]
     },
     "execution_count": 23,
     "metadata": {},
     "output_type": "execute_result"
    }
   ],
   "source": [
    "# Initialize t-SNE model\n",
    "from sklearn.manifold import TSNE\n",
    "tsne = TSNE(learning_rate=100,random_state=13)\n",
    "\n",
    "# Reduce dimensions\n",
    "tsne_features = tsne.fit_transform(df_scaled)\n",
    "\n",
    "tsne_features.shape"
   ]
  },
  {
   "cell_type": "code",
   "execution_count": 24,
   "id": "664eb219",
   "metadata": {
    "scrolled": true
   },
   "outputs": [
    {
     "data": {
      "text/plain": [
       "array([[ 15.936759 , -12.456148 ],\n",
       "       [ 17.812193 ,  -7.5477014],\n",
       "       [-26.371235 ,  12.973386 ],\n",
       "       ...,\n",
       "       [-12.352564 , -27.336775 ],\n",
       "       [ -4.151967 ,  12.869517 ],\n",
       "       [ 19.535711 , -12.055344 ]], dtype=float32)"
      ]
     },
     "execution_count": 24,
     "metadata": {},
     "output_type": "execute_result"
    }
   ],
   "source": [
    "tsne_features"
   ]
  },
  {
   "cell_type": "code",
   "execution_count": 25,
   "id": "b045910a",
   "metadata": {},
   "outputs": [
    {
     "data": {
      "text/plain": [
       "(744, 2)"
      ]
     },
     "execution_count": 25,
     "metadata": {},
     "output_type": "execute_result"
    }
   ],
   "source": [
    "tsne_features.shape"
   ]
  },
  {
   "cell_type": "code",
   "execution_count": 27,
   "id": "26231e43",
   "metadata": {},
   "outputs": [
    {
     "data": {
      "image/png": "[encoded data removed]",
      "text/plain": [
       "<Figure size 432x288 with 1 Axes>"
      ]
     },
     "metadata": {
      "needs_background": "light"
     },
     "output_type": "display_data"
    }
   ],
   "source": [
    "import matplotlib.pyplot as plt\n",
    "plt.scatter(tsne_features[:, 0], tsne_features[:,1])\n",
    "plt.show()"
   ]
  },
  {
   "cell_type": "code",
   "execution_count": 29,
   "id": "cbe283ba",
   "metadata": {},
   "outputs": [
    {
     "name": "stderr",
     "output_type": "stream",
     "text": [
      "C:\\Users\\walla\\anaconda3\\lib\\site-packages\\sklearn\\cluster\\_kmeans.py:881: UserWarning: KMeans is known to have a memory leak on Windows with MKL, when there are less chunks than available threads. You can avoid it by setting the environment variable OMP_NUM_THREADS=3.\n",
      "  warnings.warn(\n"
     ]
    },
    {
     "data": {
      "text/html": [
       "<div>\n",
       "<style scoped>\n",
       "    .dataframe tbody tr th:only-of-type {\n",
       "        vertical-align: middle;\n",
       "    }\n",
       "\n",
       "    .dataframe tbody tr th {\n",
       "        vertical-align: top;\n",
       "    }\n",
       "\n",
       "    .dataframe thead th {\n",
       "        text-align: right;\n",
       "    }\n",
       "</style>\n",
       "<table border=\"1\" class=\"dataframe\">\n",
       "  <thead>\n",
       "    <tr style=\"text-align: right;\">\n",
       "      <th></th>\n",
       "      <th>k</th>\n",
       "      <th>inertia</th>\n",
       "    </tr>\n",
       "  </thead>\n",
       "  <tbody>\n",
       "    <tr>\n",
       "      <th>0</th>\n",
       "      <td>1</td>\n",
       "      <td>394859.750000</td>\n",
       "    </tr>\n",
       "    <tr>\n",
       "      <th>1</th>\n",
       "      <td>2</td>\n",
       "      <td>222980.468750</td>\n",
       "    </tr>\n",
       "    <tr>\n",
       "      <th>2</th>\n",
       "      <td>3</td>\n",
       "      <td>130868.718750</td>\n",
       "    </tr>\n",
       "    <tr>\n",
       "      <th>3</th>\n",
       "      <td>4</td>\n",
       "      <td>91252.000000</td>\n",
       "    </tr>\n",
       "    <tr>\n",
       "      <th>4</th>\n",
       "      <td>5</td>\n",
       "      <td>73508.218750</td>\n",
       "    </tr>\n",
       "    <tr>\n",
       "      <th>5</th>\n",
       "      <td>6</td>\n",
       "      <td>57512.097656</td>\n",
       "    </tr>\n",
       "    <tr>\n",
       "      <th>6</th>\n",
       "      <td>7</td>\n",
       "      <td>46691.238281</td>\n",
       "    </tr>\n",
       "    <tr>\n",
       "      <th>7</th>\n",
       "      <td>8</td>\n",
       "      <td>36453.492188</td>\n",
       "    </tr>\n",
       "    <tr>\n",
       "      <th>8</th>\n",
       "      <td>9</td>\n",
       "      <td>30038.492188</td>\n",
       "    </tr>\n",
       "    <tr>\n",
       "      <th>9</th>\n",
       "      <td>10</td>\n",
       "      <td>25231.519531</td>\n",
       "    </tr>\n",
       "  </tbody>\n",
       "</table>\n",
       "</div>"
      ],
      "text/plain": [
       "    k        inertia\n",
       "0   1  394859.750000\n",
       "1   2  222980.468750\n",
       "2   3  130868.718750\n",
       "3   4   91252.000000\n",
       "4   5   73508.218750\n",
       "5   6   57512.097656\n",
       "6   7   46691.238281\n",
       "7   8   36453.492188\n",
       "8   9   30038.492188\n",
       "9  10   25231.519531"
      ]
     },
     "execution_count": 29,
     "metadata": {},
     "output_type": "execute_result"
    }
   ],
   "source": [
    "# Cluster analysis with KMeans. Perform KMeans to find the best value for k\n",
    "from sklearn.cluster import KMeans\n",
    "\n",
    "inertia = []\n",
    "k = [1,2,3,4,5,6,7,8,9,10]\n",
    "\n",
    "# Calculate the inertia for the range of k values\n",
    "for i in k:\n",
    "    km = KMeans(n_clusters=i, random_state=0)\n",
    "    km.fit(tsne_features)\n",
    "    inertia.append(km.inertia_)\n",
    "\n",
    "# Create the Elbow Curve \n",
    "elbow_data = {\"k\": k, \"inertia\": inertia}\n",
    "\n",
    "df_elbow = pd.DataFrame(elbow_data)\n",
    "df_elbow.head(10)"
   ]
  },
  {
   "cell_type": "code",
   "execution_count": 36,
   "id": "5365701a",
   "metadata": {},
   "outputs": [
    {
     "data": {
      "image/png": "[encoded data removed]",
      "text/plain": [
       "<Figure size 432x288 with 1 Axes>"
      ]
     },
     "metadata": {
      "needs_background": "light"
     },
     "output_type": "display_data"
    }
   ],
   "source": [
    "# Plot the elbow curve to find the best candidate(s) for k\n",
    "plt.plot(df_elbow['k'], df_elbow['inertia'])\n",
    "plt.xticks(range(1,11))\n",
    "plt.title('Optimal Number of Clusters')\n",
    "plt.xlabel('Number of clusters')\n",
    "plt.ylabel('Inertia')\n",
    "plt.show()"
   ]
  },
  {
   "cell_type": "code",
   "execution_count": 32,
   "id": "8bbd597b",
   "metadata": {},
   "outputs": [
    {
     "data": {
      "text/plain": [
       "KMeans(n_clusters=5, random_state=0)"
      ]
     },
     "execution_count": 32,
     "metadata": {},
     "output_type": "execute_result"
    }
   ],
   "source": [
    "# Initialize the k-means model. \n",
    "# Use K number = 5 as it looks like the elbow of the curve.\n",
    "model = KMeans(n_clusters=5, random_state=0)\n",
    "model.fit(tsne_features)"
   ]
  },
  {
   "cell_type": "code",
   "execution_count": 33,
   "id": "15dedc8d",
   "metadata": {},
   "outputs": [
    {
     "data": {
      "text/plain": [
       "array([2, 2, 4, 2, 4, 0, 0, 1, 0, 0, 0, 3, 0, 4, 1, 4, 0, 2, 1, 4, 2, 2,\n",
       "       3, 0, 2, 4, 2, 0, 0, 4, 0, 0, 2, 3, 2, 0, 1, 2, 0, 2, 0, 2, 0, 0,\n",
       "       3, 1, 0, 4, 2, 0, 1, 0, 4, 0, 0, 0, 0, 0, 3, 0, 3, 2, 4, 0, 0, 0,\n",
       "       0, 0, 0, 1, 2, 2, 0, 3, 0, 1, 4, 1, 2, 0, 0, 0, 0, 1, 2, 0, 0, 3,\n",
       "       0, 4, 3, 2, 4, 0, 4, 0, 2, 0, 2, 2, 2, 0, 0, 0, 2, 2, 0, 0, 0, 3,\n",
       "       1, 4, 0, 4, 2, 1, 4, 4, 4, 4, 1, 2, 2, 2, 0, 1, 0, 0, 0, 2, 1, 0,\n",
       "       4, 2, 2, 2, 0, 0, 0, 3, 0, 4, 4, 3, 2, 0, 3, 0, 2, 0, 3, 0, 4, 2,\n",
       "       2, 2, 0, 1, 0, 0, 3, 0, 2, 2, 0, 2, 2, 0, 4, 0, 0, 1, 0, 4, 0, 2,\n",
       "       1, 1, 2, 1, 2, 0, 4, 2, 1, 3, 3, 1, 0, 0, 3, 0, 3, 2, 0, 4, 2, 2,\n",
       "       1, 4, 2, 0, 0, 0, 4, 1, 0, 0, 4, 3, 4, 2, 0, 2, 2, 4, 1, 3, 0, 1,\n",
       "       0, 0, 0, 4, 0, 0, 1, 4, 3, 4, 0, 3, 0, 0, 1, 1, 1, 1, 3, 4, 4, 4,\n",
       "       2, 2, 1, 2, 2, 2, 0, 3, 2, 2, 2, 2, 1, 3, 0, 1, 3, 2, 0, 4, 4, 1,\n",
       "       2, 0, 2, 0, 1, 3, 4, 0, 0, 2, 3, 2, 0, 1, 0, 0, 4, 3, 2, 3, 2, 3,\n",
       "       2, 0, 4, 0, 3, 1, 2, 0, 0, 1, 2, 1, 3, 2, 2, 2, 2, 1, 3, 1, 4, 2,\n",
       "       1, 2, 2, 1, 0, 2, 3, 2, 2, 3, 2, 0, 0, 1, 0, 2, 3, 2, 4, 1, 1, 1,\n",
       "       2, 1, 2, 0, 0, 3, 0, 0, 0, 2, 1, 0, 2, 0, 0, 0, 1, 3, 0, 1, 2, 1,\n",
       "       0, 3, 3, 1, 2, 3, 1, 2, 2, 2, 0, 4, 1, 0, 0, 3, 4, 3, 2, 1, 2, 4,\n",
       "       0, 3, 0, 2, 0, 0, 0, 0, 2, 1, 2, 2, 0, 2, 0, 1, 1, 1, 2, 0, 2, 0,\n",
       "       0, 0, 3, 1, 2, 4, 1, 0, 3, 0, 0, 3, 0, 0, 0, 0, 0, 0, 2, 2, 0, 3,\n",
       "       3, 1, 0, 0, 1, 2, 0, 0, 0, 2, 4, 2, 2, 0, 2, 3, 0, 3, 2, 0, 1, 3,\n",
       "       4, 1, 0, 0, 0, 0, 3, 0, 3, 4, 3, 1, 3, 2, 2, 0, 0, 2, 2, 0, 0, 0,\n",
       "       2, 0, 3, 1, 4, 0, 2, 2, 0, 1, 1, 4, 2, 1, 2, 2, 2, 0, 0, 3, 0, 0,\n",
       "       2, 2, 3, 3, 1, 4, 2, 0, 2, 2, 3, 0, 0, 0, 0, 0, 2, 0, 3, 0, 2, 0,\n",
       "       4, 0, 0, 2, 0, 0, 0, 0, 0, 2, 1, 0, 0, 2, 1, 2, 0, 1, 3, 3, 3, 3,\n",
       "       0, 1, 0, 0, 0, 4, 0, 2, 3, 0, 2, 0, 2, 2, 0, 0, 3, 2, 0, 0, 3, 3,\n",
       "       2, 0, 2, 3, 2, 0, 1, 3, 3, 0, 3, 2, 2, 0, 3, 2, 3, 0, 3, 2, 0, 3,\n",
       "       2, 0, 0, 2, 2, 0, 3, 3, 0, 2, 0, 2, 2, 4, 3, 2, 3, 4, 2, 3, 3, 0,\n",
       "       1, 3, 3, 3, 3, 3, 2, 0, 3, 3, 0, 0, 0, 2, 0, 0, 2, 3, 0, 0, 3, 1,\n",
       "       1, 3, 3, 0, 3, 4, 3, 0, 3, 1, 2, 3, 2, 0, 3, 3, 0, 0, 0, 3, 3, 0,\n",
       "       0, 0, 0, 3, 4, 3, 2, 3, 0, 3, 0, 3, 0, 3, 0, 0, 0, 0, 0, 4, 0, 0,\n",
       "       0, 2, 0, 3, 0, 3, 2, 0, 2, 3, 2, 0, 3, 2, 1, 4, 4, 2, 4, 1, 3, 3,\n",
       "       0, 2, 1, 0, 1, 0, 2, 2, 0, 2, 4, 2, 1, 0, 0, 2, 4, 1, 4, 2, 0, 0,\n",
       "       4, 2, 2, 1, 2, 3, 0, 0, 1, 4, 3, 3, 2, 0, 0, 2, 0, 0, 2, 0, 0, 2,\n",
       "       3, 0, 3, 0, 4, 0, 0, 3, 3, 0, 0, 3, 3, 2, 0, 0, 3, 2])"
      ]
     },
     "execution_count": 33,
     "metadata": {},
     "output_type": "execute_result"
    }
   ],
   "source": [
    "# Predict clusters\n",
    "predictions = model.predict(tsne_features)\n",
    "predictions"
   ]
  },
  {
   "cell_type": "code",
   "execution_count": 37,
   "id": "b1cf0291",
   "metadata": {},
   "outputs": [
    {
     "data": {
      "image/png": "[encoded data removed]",
      "text/plain": [
       "<Figure size 432x288 with 2 Axes>"
      ]
     },
     "metadata": {
      "needs_background": "light"
     },
     "output_type": "display_data"
    }
   ],
   "source": [
    "# Plot the reduced dimensions from tsne and colorcode them with the labels\n",
    "plt.scatter(tsne_features[:, 0], tsne_features[:,1], c = model.labels_ )\n",
    "plt.title('Number of clusters')\n",
    "plt.colorbar()\n",
    "plt.show()"
   ]
  },
  {
   "cell_type": "markdown",
   "id": "b0713e55",
   "metadata": {},
   "source": [
    "# Using the elbow method, determining the optimal model/cluster is not possible.  No elbow is found, point where the decrease in inertia begins to slow."
   ]
  },
  {
   "cell_type": "code",
   "execution_count": null,
   "id": "1c84093e",
   "metadata": {},
   "outputs": [],
   "source": []
  }
 ],
 "metadata": {
  "kernelspec": {
   "display_name": "Python 3",
   "language": "python",
   "name": "python3"
  },
  "language_info": {
   "codemirror_mode": {
    "name": "ipython",
    "version": 3
   },
   "file_extension": ".py",
   "mimetype": "text/x-python",
   "name": "python",
   "nbconvert_exporter": "python",
   "pygments_lexer": "ipython3",
   "version": "3.8.8"
  }
 },
 "nbformat": 4,
 "nbformat_minor": 5
}
